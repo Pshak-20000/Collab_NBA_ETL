{
  "metadata": {
    "kernelspec": {
      "language": "python",
      "display_name": "Python 3",
      "name": "python3"
    },
    "language_info": {
      "pygments_lexer": "ipython3",
      "nbconvert_exporter": "python",
      "version": "3.6.4",
      "file_extension": ".py",
      "codemirror_mode": {
        "name": "ipython",
        "version": 3
      },
      "name": "python",
      "mimetype": "text/x-python"
    },
    "kaggle": {
      "accelerator": "none",
      "dataSources": [
        {
          "sourceId": 9907474,
          "sourceType": "datasetVersion",
          "datasetId": 5999475
        }
      ],
      "isInternetEnabled": false,
      "language": "python",
      "sourceType": "notebook",
      "isGpuEnabled": false
    },
    "colab": {
      "name": "notebookab4c38f8ac",
      "provenance": [],
      "include_colab_link": true
    }
  },
  "nbformat_minor": 0,
  "nbformat": 4,
  "cells": [
    {
      "cell_type": "markdown",
      "metadata": {
        "id": "view-in-github",
        "colab_type": "text"
      },
      "source": [
        "<a href=\"https://colab.research.google.com/github/Pshak-20000/Collab_NBA_ETL/blob/main/notebookab4c38f8ac.ipynb\" target=\"_parent\"><img src=\"https://colab.research.google.com/assets/colab-badge.svg\" alt=\"Open In Colab\"/></a>"
      ]
    },
    {
      "source": [
        "# IMPORTANT: RUN THIS CELL IN ORDER TO IMPORT YOUR KAGGLE DATA SOURCES,\n",
        "# THEN FEEL FREE TO DELETE THIS CELL.\n",
        "# NOTE: THIS NOTEBOOK ENVIRONMENT DIFFERS FROM KAGGLE'S PYTHON\n",
        "# ENVIRONMENT SO THERE MAY BE MISSING LIBRARIES USED BY YOUR\n",
        "# NOTEBOOK.\n",
        "import kagglehub\n",
        "eduardopalmieri_nba_player_stats_season_2425_path = kagglehub.dataset_download('eduardopalmieri/nba-player-stats-season-2425')\n",
        "\n",
        "print('Data source import complete.')\n",
        "\n"
      ],
      "metadata": {
        "id": "ztKzAcSOfFgy",
        "outputId": "b45fc606-faaf-4b3a-9a28-6e7be2f77b6b",
        "colab": {
          "base_uri": "https://localhost:8080/"
        }
      },
      "cell_type": "code",
      "outputs": [
        {
          "output_type": "stream",
          "name": "stdout",
          "text": [
            "Warning: Looks like you're using an outdated `kagglehub` version, please consider updating (latest version: 0.3.4)\n",
            "Downloading from https://www.kaggle.com/api/v1/datasets/download/eduardopalmieri/nba-player-stats-season-2425?dataset_version_number=6...\n"
          ]
        },
        {
          "output_type": "stream",
          "name": "stderr",
          "text": [
            "100%|██████████| 92.3k/92.3k [00:00<00:00, 26.4MB/s]"
          ]
        },
        {
          "output_type": "stream",
          "name": "stdout",
          "text": [
            "Extracting files...\n",
            "Data source import complete.\n"
          ]
        },
        {
          "output_type": "stream",
          "name": "stderr",
          "text": [
            "\n"
          ]
        }
      ],
      "execution_count": 7
    },
    {
      "cell_type": "code",
      "source": [
        "from pyspark.sql import SparkSession"
      ],
      "metadata": {
        "_uuid": "8f2839f25d086af736a60e9eeb907d3b93b6e0e5",
        "_cell_guid": "b1076dfc-b9ad-4769-8c92-a6c4dae69d19",
        "trusted": true,
        "id": "htvZK1SpfFg2"
      },
      "execution_count": 6,
      "outputs": []
    },
    {
      "cell_type": "markdown",
      "source": [],
      "metadata": {
        "id": "I4drJsnvgAFi"
      }
    },
    {
      "cell_type": "code",
      "source": [
        "spark = SparkSession.builder \\\n",
        "    .appName(\"NBA Player Stats Analysis\") \\\n",
        "    .getOrCreate()"
      ],
      "metadata": {
        "id": "4VH2zj_Kfm2L"
      },
      "execution_count": 8,
      "outputs": []
    },
    {
      "cell_type": "code",
      "source": [
        "import os\n",
        "filepath=os.path.join(eduardopalmieri_nba_player_stats_season_2425_path,'nba_player_stats_2425.csv')\n",
        "file_path = '/root/.cache/kagglehub/datasets/eduardopalmieri/nba-player-stats-season-2425/versions/6/nba_player_stats_2425.csv'\n",
        "print(eduardopalmieri_nba_player_stats_season_2425_path)\n"
      ],
      "metadata": {
        "id": "bSL_TVHghxme",
        "outputId": "56f26cec-3d63-4e0a-aae2-81477d51007b",
        "colab": {
          "base_uri": "https://localhost:8080/"
        }
      },
      "execution_count": 17,
      "outputs": [
        {
          "output_type": "stream",
          "name": "stdout",
          "text": [
            "/root/.cache/kagglehub/datasets/eduardopalmieri/nba-player-stats-season-2425/versions/6\n"
          ]
        }
      ]
    },
    {
      "cell_type": "code",
      "source": [
        "# Dynamically generate the file path using os.path.join\n",
        "filepath = os.path.join(eduardopalmieri_nba_player_stats_season_2425_path, 'database_24_25.csv')\n",
        "print(\"Files in dataset directory:\", os.listdir(eduardopalmieri_nba_player_stats_season_2425_path))\n",
        "# Check the generated file path\n",
        "print(\"Generated File Path:\", filepath)\n",
        "\n",
        "# Check if the file exists at the generated path\n",
        "if os.path.exists(filepath):\n",
        "    print(f\"File exists at {filepath}\")\n",
        "else:\n",
        "    print(f\"File not found at {filepath}\")"
      ],
      "metadata": {
        "id": "Z17o-e8gjrMP",
        "outputId": "50d4139c-635b-4e76-ec4e-356840816f77",
        "colab": {
          "base_uri": "https://localhost:8080/"
        }
      },
      "execution_count": 21,
      "outputs": [
        {
          "output_type": "stream",
          "name": "stdout",
          "text": [
            "Files in dataset directory: ['database_24_25.csv']\n",
            "Generated File Path: /root/.cache/kagglehub/datasets/eduardopalmieri/nba-player-stats-season-2425/versions/6/database_24_25.csv\n",
            "File exists at /root/.cache/kagglehub/datasets/eduardopalmieri/nba-player-stats-season-2425/versions/6/database_24_25.csv\n"
          ]
        }
      ]
    },
    {
      "cell_type": "code",
      "source": [
        "df=spark.read.csv(filepath,header=True,inferSchema=True)\n",
        "df.show(5)\n",
        "df.printSchema()"
      ],
      "metadata": {
        "id": "bHAmKEjviW5H",
        "outputId": "bdd45767-5e6b-45d5-ec0e-d69a0cf99284",
        "colab": {
          "base_uri": "https://localhost:8080/"
        }
      },
      "execution_count": 23,
      "outputs": [
        {
          "output_type": "stream",
          "name": "stdout",
          "text": [
            "+-------------+---+---+---+-----+---+---+-----+---+---+-----+---+---+-----+---+---+---+---+---+---+---+---+---+----+----------+\n",
            "|       Player| Tm|Opp|Res|   MP| FG|FGA|  FG%| 3P|3PA|  3P%| FT|FTA|  FT%|ORB|DRB|TRB|AST|STL|BLK|TOV| PF|PTS|GmSc|      Data|\n",
            "+-------------+---+---+---+-----+---+---+-----+---+---+-----+---+---+-----+---+---+---+---+---+---+---+---+---+----+----------+\n",
            "| Jayson Tatum|BOS|NYK|  W| 30.3| 14| 18|0.778|  8| 11|0.727|  1|  2|  0.5|  0|  4|  4| 10|  1|  1|  1|  1| 37|38.1|2024-10-22|\n",
            "|Anthony Davis|LAL|MIN|  W|37.58| 11| 23|0.478|  1|  3|0.333| 13| 15|0.867|  3| 13| 16|  4|  1|  3|  1|  1| 36|34.0|2024-10-22|\n",
            "|Derrick White|BOS|NYK|  W|26.63|  8| 13|0.615|  6| 10|  0.6|  2|  2|  1.0|  0|  3|  3|  4|  1|  0|  0|  1| 24|22.4|2024-10-22|\n",
            "| Jrue Holiday|BOS|NYK|  W|30.52|  7|  9|0.778|  4|  6|0.667|  0|  0|  0.0|  2|  2|  4|  4|  1|  0|  0|  2| 18|19.5|2024-10-22|\n",
            "|Miles McBride|NYK|BOS|  L|25.85|  8| 10|  0.8|  4|  5|  0.8|  2|  3|0.667|  0|  0|  0|  2|  0|  0|  1|  1| 22|17.8|2024-10-22|\n",
            "+-------------+---+---+---+-----+---+---+-----+---+---+-----+---+---+-----+---+---+---+---+---+---+---+---+---+----+----------+\n",
            "only showing top 5 rows\n",
            "\n",
            "root\n",
            " |-- Player: string (nullable = true)\n",
            " |-- Tm: string (nullable = true)\n",
            " |-- Opp: string (nullable = true)\n",
            " |-- Res: string (nullable = true)\n",
            " |-- MP: double (nullable = true)\n",
            " |-- FG: integer (nullable = true)\n",
            " |-- FGA: integer (nullable = true)\n",
            " |-- FG%: double (nullable = true)\n",
            " |-- 3P: integer (nullable = true)\n",
            " |-- 3PA: integer (nullable = true)\n",
            " |-- 3P%: double (nullable = true)\n",
            " |-- FT: integer (nullable = true)\n",
            " |-- FTA: integer (nullable = true)\n",
            " |-- FT%: double (nullable = true)\n",
            " |-- ORB: integer (nullable = true)\n",
            " |-- DRB: integer (nullable = true)\n",
            " |-- TRB: integer (nullable = true)\n",
            " |-- AST: integer (nullable = true)\n",
            " |-- STL: integer (nullable = true)\n",
            " |-- BLK: integer (nullable = true)\n",
            " |-- TOV: integer (nullable = true)\n",
            " |-- PF: integer (nullable = true)\n",
            " |-- PTS: integer (nullable = true)\n",
            " |-- GmSc: double (nullable = true)\n",
            " |-- Data: date (nullable = true)\n",
            "\n"
          ]
        }
      ]
    },
    {
      "cell_type": "code",
      "source": [
        "from pyspark.sql.functions import sum,col\n",
        "null_counts = df.select([sum(col(c).isNull().cast(\"int\")).alias(c) for c in df.columns])\n",
        "null_counts.show()"
      ],
      "metadata": {
        "id": "YM4dk19_lBFe",
        "outputId": "871780c9-1c15-4d7f-f606-b1505bb5c9f9",
        "colab": {
          "base_uri": "https://localhost:8080/"
        }
      },
      "execution_count": 29,
      "outputs": [
        {
          "output_type": "stream",
          "name": "stdout",
          "text": [
            "+------+---+---+---+---+---+---+---+---+---+---+---+---+---+---+---+---+---+---+---+---+---+---+----+----+\n",
            "|Player| Tm|Opp|Res| MP| FG|FGA|FG%| 3P|3PA|3P%| FT|FTA|FT%|ORB|DRB|TRB|AST|STL|BLK|TOV| PF|PTS|GmSc|Data|\n",
            "+------+---+---+---+---+---+---+---+---+---+---+---+---+---+---+---+---+---+---+---+---+---+---+----+----+\n",
            "|     0|  0|  0|  0|  0|  0|  0|  0|  0|  0|  0|  0|  0|  0|  0|  0|  0|  0|  0|  0|  0|  0|  0|   0|   0|\n",
            "+------+---+---+---+---+---+---+---+---+---+---+---+---+---+---+---+---+---+---+---+---+---+---+----+----+\n",
            "\n"
          ]
        }
      ]
    },
    {
      "cell_type": "code",
      "source": [
        "duplicate_count = df.count() - df.distinct().count()\n",
        "\n",
        "print(f\"Number of duplicate rows: {duplicate_count}\")\n",
        "df.dropDuplicates()"
      ],
      "metadata": {
        "id": "GNaHaJ6d1UZ8",
        "outputId": "8f1cc129-aa85-44ef-9a4e-f98e6d44e578",
        "colab": {
          "base_uri": "https://localhost:8080/"
        }
      },
      "execution_count": 33,
      "outputs": [
        {
          "output_type": "stream",
          "name": "stdout",
          "text": [
            "Number of duplicate rows: 0\n"
          ]
        },
        {
          "output_type": "execute_result",
          "data": {
            "text/plain": [
              "DataFrame[Player: string, Tm: string, Opp: string, Res: string, MP: double, FG: int, FGA: int, FG%: double, 3P: int, 3PA: int, 3P%: double, FT: int, FTA: int, FT%: double, ORB: int, DRB: int, TRB: int, AST: int, STL: int, BLK: int, TOV: int, PF: int, PTS: int, GmSc: double, Data: date]"
            ]
          },
          "metadata": {},
          "execution_count": 33
        }
      ]
    },
    {
      "cell_type": "markdown",
      "source": [
        "Points (PTS): A measure of the player's scoring performance.\n",
        "Assists (AST): How well the player is helping teammates score.\n",
        "Rebounds (TRB): A measure of the player’s effort in securing missed shots.\n",
        "Efficiency Metrics: FG%, 3P%, FT% indicate how efficient the player is in scoring.\n",
        "Game Performance: GmSc gives an overall score combining multiple performance aspects."
      ],
      "metadata": {
        "id": "RPgvrmXq8BmD"
      }
    },
    {
      "cell_type": "code",
      "source": [
        "df_cleaned.describe().show()"
      ],
      "metadata": {
        "id": "XGP9NKqy2CfS",
        "outputId": "6307be23-a12f-4e68-e4d3-4bb981fa568a",
        "colab": {
          "base_uri": "https://localhost:8080/"
        }
      },
      "execution_count": 34,
      "outputs": [
        {
          "output_type": "stream",
          "name": "stdout",
          "text": [
            "+-------+---------------+----+----+----+------------------+------------------+-----------------+-------------------+-----------------+------------------+-------------------+-----------------+------------------+-------------------+------------------+------------------+-----------------+------------------+------------------+-------------------+------------------+------------------+-----------------+-----------------+\n",
            "|summary|         Player|  Tm| Opp| Res|                MP|                FG|              FGA|                FG%|               3P|               3PA|                3P%|               FT|               FTA|                FT%|               ORB|               DRB|              TRB|               AST|               STL|                BLK|               TOV|                PF|              PTS|             GmSc|\n",
            "+-------+---------------+----+----+----+------------------+------------------+-----------------+-------------------+-----------------+------------------+-------------------+-----------------+------------------+-------------------+------------------+------------------+-----------------+------------------+------------------+-------------------+------------------+------------------+-----------------+-----------------+\n",
            "|  count|           3844|3844|3844|3844|              3844|              3844|             3844|               3844|             3844|              3844|               3844|             3844|              3844|               3844|              3844|              3844|             3844|              3844|              3844|               3844|              3844|              3844|             3844|             3844|\n",
            "|   mean|           NULL|NULL|NULL|NULL|22.007866805411012| 3.740894901144641|8.070759625390219|0.42498933402705535|1.210978147762747| 3.388397502601457|0.26435665972944783|1.605098855359001| 2.063475546305931|0.42012382934443204|0.9880332986472424| 3.001040582726327|3.989073881373569|2.3514568158168574|0.7536420395421436|0.47008324661810613|1.2775754422476586|1.8077523413111343|10.29786680541103| 8.28132154006245|\n",
            "| stddev|           NULL|NULL|NULL|NULL|11.093446053017077|3.2409497408758376|6.084168793633041|0.26162318466205936|1.514428543276028|3.1464853664004506| 0.2925016766009049|2.267014487619453|2.7540574928884727| 0.4351327095315885|1.3313265080640813|2.6838825538304443|3.413613327056953| 2.568356745684318|0.9938267706844948|  0.842156194098929|1.4552771704244905| 1.490967599263244|8.831583237407784|7.755039976650167|\n",
            "|    min|     A.J. Green| ATL| ATL|   L|               0.0|                 0|                0|                0.0|                0|                 0|                0.0|                0|                 0|                0.0|                 0|                 0|                0|                 0|                 0|                  0|                 0|                 0|                0|             -6.2|\n",
            "|    max|Zion Williamson| WAS| WAS|   W|             47.78|                21|               34|                1.0|               10|                18|                1.0|               17|                22|                1.0|                10|                15|               20|                16|                 7|                  9|                10|                 6|               59|             54.2|\n",
            "+-------+---------------+----+----+----+------------------+------------------+-----------------+-------------------+-----------------+------------------+-------------------+-----------------+------------------+-------------------+------------------+------------------+-----------------+------------------+------------------+-------------------+------------------+------------------+-----------------+-----------------+\n",
            "\n"
          ]
        }
      ]
    },
    {
      "cell_type": "markdown",
      "source": [
        "Filter Out Unwanted or Incorrect Data:"
      ],
      "metadata": {
        "id": "NDbG-bT34alr"
      }
    },
    {
      "cell_type": "code",
      "source": [
        "df_cleaned = df_cleaned.filter(df.PTS >= 0)\n"
      ],
      "metadata": {
        "id": "UoeZ4nG54bgu"
      },
      "execution_count": 36,
      "outputs": []
    },
    {
      "cell_type": "code",
      "source": [
        "import matplotlib.pyplot as plt\n",
        "\n",
        "# Collect the data to plot (sample data for smaller dataset size)\n",
        "data = df_cleaned.select(\"MP\", \"PTS\").toPandas()\n",
        "\n",
        "plt.scatter(data[\"MP\"], data[\"PTS\"])\n",
        "plt.title('Points vs Minutes Played')\n",
        "plt.xlabel('Minutes Played (MP)')\n",
        "plt.ylabel('Points (PTS)')\n",
        "plt.show()\n"
      ],
      "metadata": {
        "id": "9CFeEx9a8Drq",
        "outputId": "e03755f9-0e11-4b61-af0b-9eacdb2cf2a7",
        "colab": {
          "base_uri": "https://localhost:8080/",
          "height": 472
        }
      },
      "execution_count": 38,
      "outputs": [
        {
          "output_type": "display_data",
          "data": {
            "text/plain": [
              "<Figure size 640x480 with 1 Axes>"
            ],
            "image/png": "[encoded data removed]"
          },
          "metadata": {}
        }
      ]
    },
    {
      "cell_type": "code",
      "source": [
        "top_players = df_cleaned.orderBy(col(\"PTS\").desc()).limit(5)\n",
        "top_players.select(['Player']).show(truncate=False)\n"
      ],
      "metadata": {
        "colab": {
          "base_uri": "https://localhost:8080/"
        },
        "id": "E3x6bEvF8k9M",
        "outputId": "4bcd0d0a-8d28-40c1-d3cd-2472969ce047"
      },
      "execution_count": 42,
      "outputs": [
        {
          "output_type": "stream",
          "name": "stdout",
          "text": [
            "+-----------------------+\n",
            "|Player                 |\n",
            "+-----------------------+\n",
            "|Giannis Antetokounmpo  |\n",
            "|Paolo Banchero         |\n",
            "|Victor Wembanyama      |\n",
            "|Karl-Anthony Towns     |\n",
            "|Shai Gilgeous-Alexander|\n",
            "+-----------------------+\n",
            "\n"
          ]
        }
      ]
    }
  ]
}